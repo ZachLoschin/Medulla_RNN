{
 "cells": [
  {
   "cell_type": "code",
   "execution_count": null,
   "id": "cf2223e4",
   "metadata": {},
   "outputs": [
    {
     "name": "stderr",
     "output_type": "stream",
     "text": [
      "\u001b[32m\u001b[1m  Activating\u001b[22m\u001b[39m project at `C:\\isprime\\Medulla_RNN`\n"
     ]
    }
   ],
   "source": [
    "using Pkg\n",
    "Pkg.activate(\"C:\\\\isprime\\\\Medulla_RNN\\\\\")\n",
    "\n",
    "using Random, Flux\n",
    "\n"
   ]
  },
  {
   "cell_type": "code",
   "execution_count": null,
   "id": "fcc9ad26",
   "metadata": {},
   "outputs": [],
   "source": [
    "function gen_flipflop_data(num_trials=100, trial_length=50;\n",
    "                           min_gap=1, max_gap=10, p_input=0.5, seed=42)\n",
    "    Random.seed!(seed)\n",
    "    X = zeros(Float32, 2, trial_length, num_trials)\n",
    "    Y = zeros(Float32, 2, trial_length, num_trials)\n",
    "\n",
    "    for trial in 1:num_trials\n",
    "        last = zeros(Float32, 2)\n",
    "        next_input = rand(min_gap:max_gap, 2)\n",
    "        for t in 1:trial_length\n",
    "            for bit in 1:2\n",
    "                if next_input[bit] == 0 && rand() < p_input\n",
    "                    val = rand(Bool) ? 1f0 : -1f0\n",
    "                    X[bit, t, trial] = val\n",
    "                    last[bit] = val\n",
    "                    next_input[bit] = rand(min_gap:max_gap)\n",
    "                else\n",
    "                    next_input[bit] = max(next_input[bit] - 1, 0)\n",
    "                end\n",
    "            end\n",
    "            Y[:, t, trial] = last\n",
    "        end\n",
    "    end\n",
    "    return X, Y\n",
    "end"
   ]
  },
  {
   "cell_type": "code",
   "execution_count": null,
   "id": "506de634",
   "metadata": {},
   "outputs": [],
   "source": []
  }
 ],
 "metadata": {
  "kernelspec": {
   "display_name": "Julia 1.10.4",
   "language": "julia",
   "name": "julia-1.10"
  },
  "language_info": {
   "file_extension": ".jl",
   "mimetype": "application/julia",
   "name": "julia",
   "version": "1.10.4"
  }
 },
 "nbformat": 4,
 "nbformat_minor": 5
}
